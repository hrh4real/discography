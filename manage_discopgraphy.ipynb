{
  "nbformat": 4,
  "nbformat_minor": 0,
  "metadata": {
    "colab": {
      "provenance": []
    },
    "kernelspec": {
      "name": "python3",
      "display_name": "Python 3"
    },
    "language_info": {
      "name": "python"
    }
  },
  "cells": [
    {
      "cell_type": "code",
      "execution_count": null,
      "metadata": {
        "id": "a777HGQvhIRp"
      },
      "outputs": [],
      "source": [
        "import discography as dis\n",
        "\n",
        "def main():\n",
        "    while True:\n",
        "        print(\"\\nDiscography Management\")\n",
        "        print(\"1. Add Album\")\n",
        "        print(\"2. Add Song\")\n",
        "        print(\"3. Get Songs Details\")\n",
        "        print(\"4. Get All Songs in an Album\")\n",
        "        print(\"5. Exit\")\n",
        "\n",
        "        choice = input(\"Enter Your Choice: \")\n",
        "\n",
        "        if choice == '1':\n",
        "            artist_name = input(\"Enter Artist Name : \")\n",
        "            album_name = input(\"Enter the album name : \")\n",
        "            dis.add_album(dis.discography, artist_name, album_name)\n",
        "\n",
        "        elif choice == '2':\n",
        "            artist_name = input(\"Enter the artist name: \")\n",
        "            album_name = input(\"Enter the album name: \")\n",
        "            song_name = input(\"Enter the song name: \")\n",
        "            track_num = int(input(\"Enter the track number: \"))\n",
        "            duration = input(\"Enter the song duration (e.g., 4:30): \")\n",
        "            lyrics = input(\"Enter the song lyrics: \")\n",
        "            main_vocals = input(\"Enter the main vocals (comma-separated): \").split(', ')\n",
        "            bg_vocals = input(\"Enter the background vocals (comma-separated): \").split(', ')\n",
        "            instruments = input(\"Enter the instruments (comma-separated): \").split(', ')\n",
        "            writer = input(\"Enter the writing credits (comma-separated): \").split(', ')\n",
        "            producer = input(\"Enter the production credits (comma-separated): \").split(', ')\n",
        "            credits = {\n",
        "                \"vocals\": {\n",
        "                        \"main vocals\" : main_vocals,\n",
        "                        \"background vocals\" : bg_vocals,\n",
        "                    },\n",
        "                \"instruments\": instruments,\n",
        "                \"writing\": writer,\n",
        "                \"production\": producer\n",
        "            }\n",
        "            dis.add_song(dis.discography, artist_name, album_name, song_name, track_num, duration, lyrics, main_vocals, bg_vocals, writer, producer)\n",
        "\n",
        "        elif choice == '3':\n",
        "            artist_name = input(\"Enter the Artist name : \")\n",
        "            album_name = input(\"Enter the album name : \")\n",
        "            song_name = input(\"Enter Song Name : \")\n",
        "\n",
        "            song_details = dis.get_song_details(dis.discography, artist_name, album_name, song_name)\n",
        "\n",
        "            if song_details:\n",
        "                print(f\"Song Details : {song_details}\")\n",
        "\n",
        "        elif choice == '4':\n",
        "            artist_name = input(\"Enter the artist name : \")\n",
        "            album_name = input(\"Enter the album name : \")\n",
        "            album_songs = dis.get_album_songs(dis.discography, artist_name, album_name)\n",
        "            if album_songs:\n",
        "                print(f\"Songs in '{album_name}' by '{artist_name}':\")\n",
        "                print(\"\")\n",
        "                for song, details in album_songs.items():\n",
        "                    print(f\"{song}: {details}\")\n",
        "                    print(\"\")\n",
        "\n",
        "        elif choice == '5':\n",
        "            print(\"Exiting the Program. \")\n",
        "            break\n",
        "        else :\n",
        "            print(\"Invalid choice, Please Try Again. \")\n",
        "\n",
        "if __name__ == \"__main__\":\n",
        "    main()"
      ]
    }
  ]
}